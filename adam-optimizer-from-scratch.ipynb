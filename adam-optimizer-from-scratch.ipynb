{
 "metadata": {
  "language_info": {
   "codemirror_mode": {
    "name": "ipython",
    "version": 3
   },
   "file_extension": ".py",
   "mimetype": "text/x-python",
   "name": "python",
   "nbconvert_exporter": "python",
   "pygments_lexer": "ipython3",
   "version": "3.8.3-final"
  },
  "orig_nbformat": 2,
  "kernelspec": {
   "name": "python3",
   "display_name": "Python 3"
  }
 },
 "nbformat": 4,
 "nbformat_minor": 2,
 "cells": [
  {
   "source": [
    "In this exercise, I'm going to code an Adam optimizer from scratch (i.e. no use of external libraries such as Keras, Tensorflow or PyTorch). The goal is to understand what's happening behind the scenes."
   ],
   "cell_type": "markdown",
   "metadata": {}
  },
  {
   "cell_type": "code",
   "execution_count": 1,
   "metadata": {},
   "outputs": [],
   "source": [
    "# the only library I can use, welp\n",
    "import numpy as np"
   ]
  },
  {
   "cell_type": "code",
   "execution_count": 2,
   "metadata": {},
   "outputs": [],
   "source": [
    "class AdamOptim():\n",
    "    def __init__(self, eta=0.01, beta1=0.9, beta2=0.999, epsilon=1e-8):\n",
    "        self.m_dw, self.v_dw = 0, 0\n",
    "        self.m_db, self.v_db = 0, 0\n",
    "        self.beta1 = beta1\n",
    "        self.beta2 = beta2\n",
    "        self.epsilon = epsilon\n",
    "        self.eta = eta\n",
    "    def update(self, t, w, b, dw, db):\n",
    "        ## dw, db are from current minibatch\n",
    "        ## momentum beta 1\n",
    "        # *** weights *** #\n",
    "        self.m_dw = self.beta1*self.m_dw + (1-self.beta1)*dw\n",
    "        # *** biases *** #\n",
    "        self.m_db = self.beta1*self.m_db + (1-self.beta1)*db\n",
    "\n",
    "        ## rms beta 2\n",
    "        # *** weights *** #\n",
    "        self.v_dw = self.beta2*self.v_dw + (1-self.beta2)*(dw**2)\n",
    "        # *** biases *** #\n",
    "        self.v_db = self.beta2*self.v_db + (1-self.beta2)*(db)\n",
    "\n",
    "        ## bias correction\n",
    "        m_dw_corr = self.m_dw/(1-self.beta1**t)\n",
    "        m_db_corr = self.m_db/(1-self.beta1**t)\n",
    "        v_dw_corr = self.v_dw/(1-self.beta2**t)\n",
    "        v_db_corr = self.v_db/(1-self.beta2**t)\n",
    "\n",
    "        ## update weights and biases\n",
    "        w = w - self.eta*(m_dw_corr/(np.sqrt(v_dw_corr)+self.epsilon))\n",
    "        b = b - self.eta*(m_db_corr/(np.sqrt(v_db_corr)+self.epsilon))\n",
    "        return w, b"
   ]
  },
  {
   "source": [
    "Let's check and see if it works lol"
   ],
   "cell_type": "markdown",
   "metadata": {}
  },
  {
   "cell_type": "code",
   "execution_count": 3,
   "metadata": {
    "tags": [
     "outputPrepend"
    ]
   },
   "outputs": [
    {
     "output_type": "stream",
     "name": "stdout",
     "text": [
      "9\niteration 257: weight=0.9983202346112277\niteration 258: weight=0.9983944097882684\niteration 259: weight=0.9984656928634669\niteration 260: weight=0.998534181613794\niteration 261: weight=0.9985999710648938\niteration 262: weight=0.9986631535490955\niteration 263: weight=0.9987238187628614\niteration 264: weight=0.9987820538236523\niteration 265: weight=0.9988379433261909\niteration 266: weight=0.9988915693981099\niteration 267: weight=0.9989430117549652\niteration 268: weight=0.9989923477546039\niteration 269: weight=0.9990396524508698\niteration 270: weight=0.9990849986466379\niteration 271: weight=0.9991284569461627\niteration 272: weight=0.9991700958067327\niteration 273: weight=0.9992099815896199\niteration 274: weight=0.9992481786103167\niteration 275: weight=0.9992847491880505\niteration 276: weight=0.9993197536945726\niteration 277: weight=0.9993532506022106\niteration 278: weight=0.9993852965311832\niteration 279: weight=0.999415946296171\niteration 280: weight=0.9994452529521384\niteration 281: weight=0.9994732678394059\niteration 282: weight=0.999500040627969\niteration 283: weight=0.9995256193610621\niteration 284: weight=0.9995500504979664\niteration 285: weight=0.9995733789560621\niteration 286: weight=0.9995956481521241\niteration 287: weight=0.9996169000428623\niteration 288: weight=0.9996371751647086\niteration 289: weight=0.9996565126728514\niteration 290: weight=0.9996749503795203\niteration 291: weight=0.9996925247915246\niteration 292: weight=0.9997092711470486\niteration 293: weight=0.9997252234517061\niteration 294: weight=0.9997404145138615\niteration 295: weight=0.9997548759792192\niteration 296: weight=0.9997686383646873\niteration 297: weight=0.9997817310915225\niteration 298: weight=0.9997941825177595\niteration 299: weight=0.9998060199699335\niteration 300: weight=0.9998172697740993\niteration 301: weight=0.9998279572861581\niteration 302: weight=0.9998381069214939\niteration 303: weight=0.9998477421839309\niteration 304: weight=0.9998568856940179\niteration 305: weight=0.9998655592166464\niteration 306: weight=0.9998737836880133\niteration 307: weight=0.9998815792419323\niteration 308: weight=0.9998889652355071\niteration 309: weight=0.9998959602741706\niteration 310: weight=0.9999025822361022\niteration 311: weight=0.9999088482960293\niteration 312: weight=0.9999147749484246\niteration 313: weight=0.999920378030106\niteration 314: weight=0.9999256727422497\niteration 315: weight=0.9999306736718255\niteration 316: weight=0.9999353948124632\niteration 317: weight=0.9999398495847598\niteration 318: weight=0.9999440508560381\niteration 319: weight=0.9999480109595638\niteration 320: weight=0.9999517417132329\niteration 321: weight=0.9999552544377384\niteration 322: weight=0.9999585599742249\niteration 323: weight=0.9999616687014424\niteration 324: weight=0.9999645905524075\niteration 325: weight=0.999967335030582\niteration 326: weight=0.9999699112255794\niteration 327: weight=0.9999723278284075\niteration 328: weight=0.9999745931462574\niteration 329: weight=0.9999767151168482\niteration 330: weight=0.9999787013223368\niteration 331: weight=0.9999805590028027\niteration 332: weight=0.9999822950693158\niteration 333: weight=0.9999839161165983\niteration 334: weight=0.9999854284352881\niteration 335: weight=0.9999868380238144\niteration 336: weight=0.9999881505998927\niteration 337: weight=0.9999893716116505\niteration 338: weight=0.9999905062483903\niteration 339: weight=0.9999915594509997\niteration 340: weight=0.9999925359220176\niteration 341: weight=0.9999934401353642\niteration 342: weight=0.9999942763457434\niteration 343: weight=0.9999950485977274\niteration 344: weight=0.9999957607345287\niteration 345: weight=0.999996416406471\niteration 346: weight=0.9999970190791647\niteration 347: weight=0.9999975720413955\niteration 348: weight=0.9999980784127344\niteration 349: weight=0.9999985411508757\niteration 350: weight=0.9999989630587119\niteration 351: weight=0.9999993467911512\niteration 352: weight=0.9999996948616862\niteration 353: weight=1.0000000096487203\niteration 354: weight=1.0000002934016596\niteration 355: weight=1.0000005482467753\niteration 356: weight=1.0000007761928456\niteration 357: weight=1.0000009791365825\niteration 358: weight=1.0000011588678495\niteration 359: weight=1.0000013170746784\niteration 360: weight=1.0000014553480892\niteration 361: weight=1.0000015751867204\niteration 362: weight=1.0000016780012766\niteration 363: weight=1.0000017651187962\niteration 364: weight=1.0000018377867486\niteration 365: weight=1.0000018971769635\niteration 366: weight=1.0000019443894\niteration 367: weight=1.0000019804557585\niteration 368: weight=1.0000020063429436\niteration 369: weight=1.0000020229563793\niteration 370: weight=1.0000020311431854\niteration 371: weight=1.0000020316952167\niteration 372: weight=1.0000020253519715\niteration 373: weight=1.0000020128033733\niteration 374: weight=1.0000019946924315\niteration 375: weight=1.0000019716177821\niteration 376: weight=1.0000019441361176\niteration 377: weight=1.0000019127645048\niteration 378: weight=1.000001877982599\niteration 379: weight=1.0000018402347561\niteration 380: weight=1.0000017999320474\niteration 381: weight=1.000001757454179\niteration 382: weight=1.0000017131513226\niteration 383: weight=1.0000016673458578\niteration 384: weight=1.000001620334032\niteration 385: weight=1.0000015723875386\niteration 386: weight=1.0000015237550193\niteration 387: weight=1.0000014746634915\niteration 388: weight=1.0000014253197047\niteration 389: weight=1.0000013759114286\niteration 390: weight=1.0000013266086762\niteration 391: weight=1.0000012775648637\niteration 392: weight=1.0000012289179103\niteration 393: weight=1.0000011807912805\niteration 394: weight=1.0000011332949712\niteration 395: weight=1.000001086526446\niteration 396: weight=1.000001040571519\niteration 397: weight=1.0000009955051905\niteration 398: weight=1.0000009513924366\niteration 399: weight=1.0000009082889536\niteration 400: weight=1.0000008662418622\niteration 401: weight=1.0000008252903696\niteration 402: weight=1.0000007854663946\niteration 403: weight=1.0000007467951555\niteration 404: weight=1.000000709295723\niteration 405: weight=1.0000006729815407\niteration 406: weight=1.0000006378609128\niteration 407: weight=1.0000006039374625\niteration 408: weight=1.0000005712105615\niteration 409: weight=1.0000005396757328\niteration 410: weight=1.0000005093250262\niteration 411: weight=1.0000004801473712\niteration 412: weight=1.0000004521289048\niteration 413: weight=1.0000004252532784\niteration 414: weight=1.0000003995019433\niteration 415: weight=1.000000374854416\niteration 416: weight=1.0000003512885252\niteration 417: weight=1.000000328780641\niteration 418: weight=1.0000003073058867\niteration 419: weight=1.0000002868383355\niteration 420: weight=1.0000002673511916\niteration 421: weight=1.000000248816957\niteration 422: weight=1.000000231207586\niteration 423: weight=1.0000002144946256\niteration 424: weight=1.0000001986493454\niteration 425: weight=1.0000001836428556\niteration 426: weight=1.0000001694462146\niteration 427: weight=1.0000001560305274\niteration 428: weight=1.0000001433670334\niteration 429: weight=1.0000001314271876\niteration 430: weight=1.0000001201827318\niteration 431: weight=1.0000001096057591\niteration 432: weight=1.000000099668772\niteration 433: weight=1.000000090344732\niteration 434: weight=1.000000081607105\niteration 435: weight=1.0000000734299008\niteration 436: weight=1.0000000657877053\niteration 437: weight=1.0000000586557103\niteration 438: weight=1.0000000520097374\niteration 439: weight=1.0000000458262583\niteration 440: weight=1.0000000400824103\niteration 441: weight=1.000000034756009\niteration 442: weight=1.0000000298255576\niteration 443: weight=1.0000000252702532\niteration 444: weight=1.0000000210699902\niteration 445: weight=1.0000000172053607\niteration 446: weight=1.0000000136576537\niteration 447: weight=1.0000000104088511\niteration 448: weight=1.000000007441623\niteration 449: weight=1.0000000047393205\niteration 450: weight=1.0000000022859659\niteration 451: weight=1.0000000000662446\niteration 452: weight=0.9999999980654928\niteration 453: weight=0.9999999962696857\niteration 454: weight=0.9999999946654243\niteration 455: weight=0.9999999932399216\niteration 456: weight=0.9999999919809877\niteration 457: weight=0.9999999908770149\niteration 458: weight=0.999999989916962\niteration 459: weight=0.9999999890903385\niteration 460: weight=0.9999999883871876\niteration 461: weight=0.9999999877980703\niteration 462: weight=0.9999999873140484\niteration 463: weight=0.9999999869266677\niteration 464: weight=0.9999999866279413\niteration 465: weight=0.9999999864103329\niteration 466: weight=0.9999999862667397\niteration 467: weight=0.9999999861904763\niteration 468: weight=0.9999999861752578\niteration 469: weight=0.9999999862151839\niteration 470: weight=0.9999999863047233\niteration 471: weight=0.9999999864386969\niteration 472: weight=0.9999999866122634\niteration 473: weight=0.9999999868209039\niteration 474: weight=0.9999999870604066\niteration 475: weight=0.9999999873268534\niteration 476: weight=0.9999999876166047\niteration 477: weight=0.9999999879262865\niteration 478: weight=0.9999999882527769\niteration 479: weight=0.999999988593193\niteration 480: weight=0.9999999889448784\niteration 481: weight=0.9999999893053915\niteration 482: weight=0.9999999896724932\niteration 483: weight=0.9999999900441359\niteration 484: weight=0.9999999904184526\niteration 485: weight=0.9999999907937464\niteration 486: weight=0.9999999911684802\niteration 487: weight=0.9999999915412672\niteration 488: weight=0.9999999919108616\niteration 489: weight=0.9999999922761498\niteration 490: weight=0.9999999926361411\niteration 491: weight=0.9999999929899606\niteration 492: weight=0.9999999933368405\niteration 493: weight=0.9999999936761135\niteration 494: weight=0.9999999940072047\niteration 495: weight=0.9999999943296259\niteration 496: weight=0.9999999946429682\niteration 497: weight=0.9999999949468965\niteration 498: weight=0.9999999952411437\niteration 499: weight=0.999999995525505\niteration 500: weight=0.9999999957998327\niteration 501: weight=0.9999999960640314\niteration 502: weight=0.9999999963180537\niteration 503: weight=0.999999996561895\niteration 504: weight=0.9999999967955902\niteration 505: weight=0.9999999970192094\niteration 506: weight=0.9999999972328546\niteration 507: weight=0.9999999974366559\niteration 508: weight=0.9999999976307687\niteration 509: weight=0.9999999978153705\niteration 510: weight=0.9999999979906583\niteration 511: weight=0.9999999981568457\niteration 512: weight=0.999999998314161\niteration 513: weight=0.9999999984628445\niteration 514: weight=0.9999999986031467\niteration 515: weight=0.9999999987353264\niteration 516: weight=0.9999999988596489\niteration 517: weight=0.9999999989763841\niteration 518: weight=0.9999999990858058\niteration 519: weight=0.9999999991881894\niteration 520: weight=0.9999999992838112\niteration 521: weight=0.9999999993729474\niteration 522: weight=0.9999999994558726\niteration 523: weight=0.9999999995328595\niteration 524: weight=0.9999999996041773\niteration 525: weight=0.9999999996700918\niteration 526: weight=0.9999999997308642\niteration 527: weight=0.9999999997867507\niteration 528: weight=0.999999999838002\niteration 529: weight=0.9999999998848629\niteration 530: weight=0.9999999999275718\niteration 531: weight=0.9999999999663607\niteration 532: weight=1.0000000000014544\niteration 533: weight=1.0000000000330709\niteration 534: weight=1.0000000000614209\niteration 535: weight=1.0000000000867075\niteration 536: weight=1.0000000001091267\niteration 537: weight=1.000000000128867\niteration 538: weight=1.0000000001461087\niteration 539: weight=1.0000000001610256\niteration 540: weight=1.0000000001737834\niteration 541: weight=1.0000000001845408\niteration 542: weight=1.0000000001934488\niteration 543: weight=1.0000000002006517\niteration 544: weight=1.0000000002062863\niteration 545: weight=1.0000000002104827\niteration 546: weight=1.0000000002133642\niteration 547: weight=1.0000000002150473\niteration 548: weight=1.0000000002156426\niteration 549: weight=1.0000000002152538\niteration 550: weight=1.0000000002139788\niteration 551: weight=1.0000000002119098\niteration 552: weight=1.0000000002091332\niteration 553: weight=1.0000000002057299\niteration 554: weight=1.0000000002017755\niteration 555: weight=1.0000000001973406\niteration 556: weight=1.000000000192491\niteration 557: weight=1.0000000001872875\niteration 558: weight=1.0000000001817868\niteration 559: weight=1.0000000001760414\niteration 560: weight=1.0000000001700993\niteration 561: weight=1.000000000164005\niteration 562: weight=1.0000000001577996\niteration 563: weight=1.00000000015152\niteration 564: weight=1.0000000001452\niteration 565: weight=1.000000000138871\niteration 566: weight=1.0000000001325604\niteration 567: weight=1.0000000001262936\niteration 568: weight=1.000000000120093\niteration 569: weight=1.0000000001139786\niteration 570: weight=1.000000000107968\niteration 571: weight=1.0000000001020772\niteration 572: weight=1.0000000000963196\niteration 573: weight=1.0000000000907068\niteration 574: weight=1.000000000085249\niteration 575: weight=1.0000000000799543\niteration 576: weight=1.0000000000748297\niteration 577: weight=1.0000000000698805\niteration 578: weight=1.0000000000651112\niteration 579: weight=1.0000000000605247\niteration 580: weight=1.0000000000561229\niteration 581: weight=1.000000000051907\niteration 582: weight=1.000000000047877\niteration 583: weight=1.0000000000440323\niteration 584: weight=1.0000000000403715\niteration 585: weight=1.0000000000368925\niteration 586: weight=1.0000000000335927\niteration 587: weight=1.000000000030469\niteration 588: weight=1.0000000000275175\niteration 589: weight=1.0000000000247347\niteration 590: weight=1.000000000022116\niteration 591: weight=1.0000000000196572\niteration 592: weight=1.000000000017353\niteration 593: weight=1.0000000000151987\niteration 594: weight=1.000000000013189\niteration 595: weight=1.0000000000113185\niteration 596: weight=1.000000000009582\niteration 597: weight=1.0000000000079738\niteration 598: weight=1.0000000000064888\niteration 599: weight=1.0000000000051212\niteration 600: weight=1.0000000000038658\niteration 601: weight=1.0000000000027172\niteration 602: weight=1.0000000000016698\niteration 603: weight=1.0000000000007185\niteration 604: weight=0.9999999999998581\niteration 605: weight=0.9999999999990835\niteration 606: weight=0.9999999999983898\niteration 607: weight=0.9999999999977722\niteration 608: weight=0.999999999997226\niteration 609: weight=0.9999999999967466\niteration 610: weight=0.9999999999963296\niteration 611: weight=0.9999999999959708\niteration 612: weight=0.999999999995666\niteration 613: weight=0.9999999999954114\niteration 614: weight=0.9999999999952033\niteration 615: weight=0.999999999995038\niteration 616: weight=0.999999999994912\niteration 617: weight=0.999999999994822\niteration 618: weight=0.999999999994765\niteration 619: weight=0.9999999999947379\niteration 620: weight=0.999999999994738\niteration 621: weight=0.9999999999947625\niteration 622: weight=0.999999999994809\niteration 623: weight=0.9999999999948752\niteration 624: weight=0.9999999999949587\niteration 625: weight=0.9999999999950575\niteration 626: weight=0.9999999999951696\niteration 627: weight=0.9999999999952933\niteration 628: weight=0.9999999999954268\niteration 629: weight=0.9999999999955685\niteration 630: weight=0.9999999999957171\niteration 631: weight=0.9999999999958711\niteration 632: weight=0.9999999999960292\niteration 633: weight=0.9999999999961904\niteration 634: weight=0.9999999999963536\niteration 635: weight=0.9999999999965179\niteration 636: weight=0.9999999999966823\niteration 637: weight=0.9999999999968462\niteration 638: weight=0.9999999999970088\niteration 639: weight=0.9999999999971695\niteration 640: weight=0.9999999999973277\niteration 641: weight=0.9999999999974829\niteration 642: weight=0.9999999999976348\niteration 643: weight=0.9999999999977829\niteration 644: weight=0.9999999999979269\niteration 645: weight=0.9999999999980665\niteration 646: weight=0.9999999999982015\niteration 647: weight=0.9999999999983318\niteration 648: weight=0.9999999999984571\niteration 649: weight=0.9999999999985775\niteration 650: weight=0.9999999999986927\niteration 651: weight=0.9999999999988028\niteration 652: weight=0.9999999999989078\niteration 653: weight=0.9999999999990076\niteration 654: weight=0.9999999999991023\niteration 655: weight=0.999999999999192\niteration 656: weight=0.9999999999992767\niteration 657: weight=0.9999999999993565\niteration 658: weight=0.9999999999994316\niteration 659: weight=0.9999999999995018\niteration 660: weight=0.9999999999995676\niteration 661: weight=0.999999999999629\niteration 662: weight=0.999999999999686\niteration 663: weight=0.999999999999739\niteration 664: weight=0.999999999999788\niteration 665: weight=0.9999999999998331\niteration 666: weight=0.9999999999998747\niteration 667: weight=0.9999999999999126\niteration 668: weight=0.9999999999999473\niteration 669: weight=0.9999999999999788\niteration 670: weight=1.0000000000000073\niteration 671: weight=1.0000000000000329\niteration 672: weight=1.0000000000000557\niteration 673: weight=1.0000000000000762\niteration 674: weight=1.0000000000000941\niteration 675: weight=1.00000000000011\niteration 676: weight=1.0000000000001235\niteration 677: weight=1.0000000000001352\niteration 678: weight=1.000000000000145\niteration 679: weight=1.0000000000001532\niteration 680: weight=1.0000000000001599\niteration 681: weight=1.000000000000165\niteration 682: weight=1.0000000000001688\niteration 683: weight=1.0000000000001714\niteration 684: weight=1.000000000000173\niteration 685: weight=1.0000000000001734\niteration 686: weight=1.000000000000173\niteration 687: weight=1.0000000000001716\niteration 688: weight=1.0000000000001696\niteration 689: weight=1.000000000000167\niteration 690: weight=1.0000000000001639\niteration 691: weight=1.00000000000016\niteration 692: weight=1.0000000000001559\niteration 693: weight=1.0000000000001514\niteration 694: weight=1.0000000000001465\niteration 695: weight=1.0000000000001414\niteration 696: weight=1.0000000000001361\niteration 697: weight=1.0000000000001306\niteration 698: weight=1.000000000000125\niteration 699: weight=1.0000000000001195\niteration 700: weight=1.0000000000001137\niteration 701: weight=1.000000000000108\niteration 702: weight=1.0000000000001021\niteration 703: weight=1.0000000000000966\niteration 704: weight=1.000000000000091\niteration 705: weight=1.0000000000000855\niteration 706: weight=1.0000000000000802\niteration 707: weight=1.0000000000000748\niteration 708: weight=1.0000000000000697\niteration 709: weight=1.0000000000000648\niteration 710: weight=1.00000000000006\niteration 711: weight=1.0000000000000553\niteration 712: weight=1.0000000000000508\niteration 713: weight=1.0000000000000466\niteration 714: weight=1.0000000000000426\niteration 715: weight=1.0000000000000386\niteration 716: weight=1.0000000000000349\niteration 717: weight=1.0000000000000313\niteration 718: weight=1.000000000000028\niteration 719: weight=1.0000000000000249\niteration 720: weight=1.000000000000022\niteration 721: weight=1.000000000000019\niteration 722: weight=1.0000000000000164\niteration 723: weight=1.000000000000014\niteration 724: weight=1.0000000000000118\niteration 725: weight=1.0000000000000098\niteration 726: weight=1.0000000000000078\niteration 727: weight=1.000000000000006\niteration 728: weight=1.0000000000000044\niteration 729: weight=1.0000000000000029\niteration 730: weight=1.0000000000000016\niteration 731: weight=1.0000000000000002\niteration 732: weight=0.9999999999999991\niteration 733: weight=0.9999999999999981\niteration 734: weight=0.9999999999999972\niteration 735: weight=0.9999999999999964\niteration 736: weight=0.9999999999999958\niteration 737: weight=0.9999999999999952\niteration 738: weight=0.9999999999999947\niteration 739: weight=0.9999999999999942\niteration 740: weight=0.9999999999999939\niteration 741: weight=0.9999999999999936\niteration 742: weight=0.9999999999999933\niteration 743: weight=0.9999999999999931\niteration 744: weight=0.999999999999993\niteration 745: weight=0.9999999999999929\nconverged after 746 iterations\n"
     ]
    }
   ],
   "source": [
    "## define loss functions and gradient descent. We don't really use the loss function here.\n",
    "def loss_function(m):\n",
    "    return m**2-2*m+1\n",
    "## take derivative\n",
    "def grad_function(m):\n",
    "    return 2*m-2\n",
    "def check_convergence(w0, w1):\n",
    "    return (w0 == w1)\n",
    "## initialize weights and biases, and our optimizer\n",
    "w_0 = 0\n",
    "b_0 = 0\n",
    "adam = AdamOptim()\n",
    "t = 1 \n",
    "converged = False\n",
    "\n",
    "while not converged:\n",
    "    dw = grad_function(w_0)\n",
    "    db = grad_function(b_0)\n",
    "    w_0_old = w_0\n",
    "    w_0, b_0 = adam.update(t,w=w_0, b=b_0, dw=dw, db=db)\n",
    "    if check_convergence(w_0, w_0_old):\n",
    "        print('converged after '+str(t)+' iterations')\n",
    "        break\n",
    "    else:\n",
    "        print('iteration '+str(t)+': weight='+str(w_0))\n",
    "        t+=1"
   ]
  },
  {
   "source": [
    "Yeeet I guess building an Adam optimizer from scratch ain't that hard ¯\\_(ツ)_/¯"
   ],
   "cell_type": "markdown",
   "metadata": {}
  }
 ]
}